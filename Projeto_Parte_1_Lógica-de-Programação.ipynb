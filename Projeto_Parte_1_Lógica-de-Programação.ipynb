{
  "nbformat": 4,
  "nbformat_minor": 0,
  "metadata": {
    "colab": {
      "provenance": []
    },
    "kernelspec": {
      "name": "python3",
      "display_name": "Python 3"
    },
    "language_info": {
      "name": "python"
    }
  },
  "cells": [
    {
      "cell_type": "code",
      "execution_count": 5,
      "metadata": {
        "colab": {
          "base_uri": "https://localhost:8080/"
        },
        "id": "y-CX1JuxSnux",
        "outputId": "cd45d835-0230-4cd6-b087-88929359ba46"
      },
      "outputs": [
        {
          "output_type": "stream",
          "name": "stdout",
          "text": [
            "Digite a temperatura máxima registrada para o mês Janeiro (use ponto ou vírgula para decimal): 34,3\n",
            "Digite a temperatura máxima registrada para o mês Fevereiro (use ponto ou vírgula para decimal): 36\n",
            "Digite a temperatura máxima registrada para o mês Março (use ponto ou vírgula para decimal): 31\n",
            "Digite a temperatura máxima registrada para o mês Abril (use ponto ou vírgula para decimal): 31,7\n",
            "Digite a temperatura máxima registrada para o mês Maio (use ponto ou vírgula para decimal): 31\n",
            "Digite a temperatura máxima registrada para o mês Junho (use ponto ou vírgula para decimal): 20\n",
            "Digite a temperatura máxima registrada para o mês Julho (use ponto ou vírgula para decimal): 17\n",
            "Digite a temperatura máxima registrada para o mês Agosto (use ponto ou vírgula para decimal): 42,5\n",
            "Digite a temperatura máxima registrada para o mês Setembro (use ponto ou vírgula para decimal): 37\n",
            "Digite a temperatura máxima registrada para o mês Outubro (use ponto ou vírgula para decimal): 32,1\n",
            "Digite a temperatura máxima registrada para o mês Novembro (use ponto ou vírgula para decimal): 33\n",
            "Digite a temperatura máxima registrada para o mês Dezembro (use ponto ou vírgula para decimal): 23\n",
            "\n",
            "--- Resultados ---\n",
            "Temperatura média máxima anual: 30.72°C\n",
            "Quantidade de meses escaldantes: 4\n",
            "Mês mais escaldante: Agosto com 42.5°C\n",
            "Mês menos quente: Julho com 17.0°C\n"
          ]
        },
        {
          "output_type": "execute_result",
          "data": {
            "text/plain": [
              "17"
            ]
          },
          "metadata": {},
          "execution_count": 5
        }
      ],
      "source": [
        "meses = [\"Janeiro\", \"Fevereiro\", \"Março\", \"Abril\", \"Maio\", \"Junho\",\n",
        "         \"Julho\", \"Agosto\", \"Setembro\", \"Outubro\", \"Novembro\", \"Dezembro\"]\n",
        "\n",
        "temperaturas_maximas = []\n",
        "\n",
        "for i in range(1, 13):\n",
        "    while True:\n",
        "        try:\n",
        "            temp_max_str = input(f\"Digite a temperatura máxima registrada para o mês {meses[i-1]} (use ponto ou vírgula para decimal): \")\n",
        "            temp_max_str = temp_max_str.replace(',', '.')\n",
        "            temp_max = float(temp_max_str)\n",
        "\n",
        "            if -60 <= temp_max <= 50:\n",
        "                temperaturas_maximas.append(temp_max)\n",
        "                break\n",
        "            else:\n",
        "                print(\"Erro: A temperatura deve estar entre -60 e 50 graus Celsius.\")\n",
        "        except ValueError:\n",
        "            print(\"Erro: Por favor, digite um valor numérico válido.\")\n",
        "\n",
        "media_anual = sum(temperaturas_maximas) / len(temperaturas_maximas)\n",
        "\n",
        "meses_escaldantes = sum(1 for temp in temperaturas_maximas if temp > 33)\n",
        "\n",
        "mes_mais_escaldante = temperaturas_maximas.index(max(temperaturas_maximas))\n",
        "mes_menos_quente = temperaturas_maximas.index(min(temperaturas_maximas))\n",
        "\n",
        "print(\"\\n--- Resultados ---\")\n",
        "print(f\"Temperatura média máxima anual: {media_anual:.2f}°C\")\n",
        "print(f\"Quantidade de meses escaldantes: {meses_escaldantes}\")\n",
        "print(f\"Mês mais escaldante: {meses[mes_mais_escaldante]} com {temperaturas_maximas[mes_mais_escaldante]}°C\")\n",
        "print(f\"Mês menos quente: {meses[mes_menos_quente]} com {temperaturas_maximas[mes_menos_quente]}°C\")\n",
        "17"
      ]
    }
  ]
}